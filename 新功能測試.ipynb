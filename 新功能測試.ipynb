{
 "cells": [
  {
   "cell_type": "code",
   "execution_count": null,
   "metadata": {},
   "outputs": [],
   "source": [
    "from app.service.text_service import TextAnalysisService\n",
    "from app.service.image_service import ImageAnalysisService\n",
    "from app.service.file_service import FileAnalysisService\n",
    "from app.service.url_services import UrlAnalysisService\n",
    "from app.service.label_service import LabelApplicationService, LabelManagementService\n",
    "\n",
    "from bson import ObjectId\n",
    "\n",
    "text_analysis_service = TextAnalysisService()\n",
    "url_analysis_service = UrlAnalysisService()\n",
    "file_analysis_service = FileAnalysisService()\n",
    "image_analysis_service = ImageAnalysisService()\n",
    "\n",
    "await text_analysis_service.process_text()\n",
    "await url_analysis_service.process_urls()\n",
    "await file_analysis_service.process_files()\n",
    "await image_analysis_service.process_images()"
   ]
  },
  {
   "cell_type": "code",
   "execution_count": null,
   "metadata": {},
   "outputs": [],
   "source": []
  },
  {
   "cell_type": "code",
   "execution_count": 1,
   "metadata": {},
   "outputs": [],
   "source": [
    "from pymongo import MongoClient\n",
    "from app.infrastructure.external.cloudflare_ai_service import CloudflareAIService\n",
    "from app.infrastructure.daos.text_daos import TextDAO\n",
    "from app.infrastructure.daos.image_daos import ImageDAO\n",
    "from app.infrastructure.daos.user_daos import UserDAO"
   ]
  },
  {
   "cell_type": "code",
   "execution_count": 2,
   "metadata": {},
   "outputs": [
    {
     "data": {
      "text/plain": [
       "[ObjectId('67e3c391ee7d33ce57110243')]"
      ]
     },
     "execution_count": 2,
     "metadata": {},
     "output_type": "execute_result"
    }
   ],
   "source": [
    "from app.service.user_service import UserManagementService\n",
    "user_management_service = UserManagementService()\n",
    "await user_management_service.get_users_by_line_group_id(\"Ced6be955b978ec9e38693641bca5eae2\")"
   ]
  },
  {
   "cell_type": "code",
   "execution_count": 9,
   "metadata": {},
   "outputs": [],
   "source": [
    "llm_service = CloudflareAIService()\n",
    "\n",
    "dao = TextDAO()\n",
    "dao = ImageDAO()\n",
    "\n",
    "query_text = \"GPU\"\n",
    "\n",
    "result = await dao.full_text_search(query_text)\n",
    "\n",
    "# query_vector = await llm_service.get_embedding(query_text)\n",
    "# result = await dao.vector_search(query_vector)"
   ]
  },
  {
   "cell_type": "code",
   "execution_count": null,
   "metadata": {},
   "outputs": [],
   "source": [
    "result"
   ]
  },
  {
   "cell_type": "code",
   "execution_count": null,
   "metadata": {},
   "outputs": [],
   "source": []
  },
  {
   "cell_type": "code",
   "execution_count": null,
   "metadata": {},
   "outputs": [],
   "source": []
  },
  {
   "cell_type": "markdown",
   "metadata": {},
   "source": []
  }
 ],
 "metadata": {
  "kernelspec": {
   "display_name": "venv",
   "language": "python",
   "name": "python3"
  },
  "language_info": {
   "codemirror_mode": {
    "name": "ipython",
    "version": 3
   },
   "file_extension": ".py",
   "mimetype": "text/x-python",
   "name": "python",
   "nbconvert_exporter": "python",
   "pygments_lexer": "ipython3",
   "version": "3.9.6"
  }
 },
 "nbformat": 4,
 "nbformat_minor": 2
}
