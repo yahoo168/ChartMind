{
 "cells": [
  {
   "cell_type": "code",
   "execution_count": 1,
   "metadata": {},
   "outputs": [],
   "source": [
    "from app.service.label_service import LabelManagementService\n",
    "\n",
    "service = LabelManagementService()"
   ]
  },
  {
   "cell_type": "code",
   "execution_count": null,
   "metadata": {},
   "outputs": [],
   "source": [
    "from app.service.text_service import UrlAnalysisService\n",
    "\n",
    "url_analysis_service = UrlAnalysisService()\n",
    "await url_analysis_service.process_url()"
   ]
  },
  {
   "cell_type": "code",
   "execution_count": 1,
   "metadata": {},
   "outputs": [],
   "source": [
    "from app.infrastructure.external.cloudflare_ai_service import CloudflareAIService\n",
    "\n",
    "text = \"Hello, world!\"\n",
    "llm_service = CloudflareAIService()\n",
    "#await cloudflare_ai_service.get_embedding(text)\n",
    "\n",
    "\n"
   ]
  },
  {
   "cell_type": "code",
   "execution_count": null,
   "metadata": {},
   "outputs": [],
   "source": [
    "# 测试函数\n",
    "test_text = \"\"\"\n",
    "年初靠着“TikTok难民风”，火起来的不只是小红书，还有多邻国。1月14日多邻国在官博上披露，普通话学习用户数同比飙增216%。\n",
    "\n",
    "作为一款语言学习平台，按道理说内容的竞争壁垒是不够高的，尤其是多邻国的课程还是适用于通用化的场景需求。因此核心的用户来源，主要是有外语交流需求的打工人和游客，以及纯靠兴趣的学生群体。\n",
    "\n",
    "但就算只是靠着这样的一群非刚需用户，多邻国仍然干到了大部分国家地区的教育app下载榜一。\n",
    "\n",
    "不过，之所以这个时候开始关注多邻国，不仅仅是在于年初的事件。核心在于，海豚君认为多邻国的商业模式是一个明显优于流媒体的商业模式。它其实是游戏化、程序化的教学特征，实际符合由代码驱动的成本模式，边际投入成本比较低，而并非像流媒体一样靠持续且高昂的内容投入驱动。只要用户规模增长并达到一定规模，就能成为一个比流媒体更健康的现金奶牛。\n",
    "\n",
    "近期一个月以来的美股回调时期，海豚君也在重点梳理一些商业模式优秀、竞争相对优势的公司，等待他们落入合理估值甚至悲观预期估值的范畴，否则价格太贵总是影响持有体验。\n",
    "\n",
    "\n",
    "\"\"\"\n",
    "prompt = \"請以繁體中文分析本段文字，用100字左右撰寫內容摘要，捕捉核心觀點，並取一個濃縮文字重點的標題，返回JSON格式，包含2個鍵：summary和title\"\n",
    "result = await llm_service.analyze_text(test_text, prompt, json_response=True)"
   ]
  },
  {
   "cell_type": "code",
   "execution_count": null,
   "metadata": {},
   "outputs": [
    {
     "name": "stdout",
     "output_type": "stream",
     "text": [
      "2025-04-11 15:18:53,662 - ChartMind - INFO - Found 1 unprocessed texts.\n"
     ]
    },
    {
     "name": "stdout",
     "output_type": "stream",
     "text": [
      "2025-04-11 15:18:58,805 - ChartMind - INFO - Completed processing 1 texts\n"
     ]
    }
   ],
   "source": [
    "from app.service.text_service import TextAnalysisService\n",
    "from app.service.image_service import ImageAnalysisService\n",
    "\n",
    "image_analysis_service = ImageAnalysisService()\n",
    "await image_analysis_service.process_images()"
   ]
  },
  {
   "cell_type": "markdown",
   "metadata": {},
   "source": []
  }
 ],
 "metadata": {
  "kernelspec": {
   "display_name": "venv",
   "language": "python",
   "name": "python3"
  },
  "language_info": {
   "codemirror_mode": {
    "name": "ipython",
    "version": 3
   },
   "file_extension": ".py",
   "mimetype": "text/x-python",
   "name": "python",
   "nbconvert_exporter": "python",
   "pygments_lexer": "ipython3",
   "version": "3.9.6"
  }
 },
 "nbformat": 4,
 "nbformat_minor": 2
}
