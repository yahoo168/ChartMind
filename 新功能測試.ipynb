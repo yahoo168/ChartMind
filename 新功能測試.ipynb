{
 "cells": [
  {
   "cell_type": "code",
   "execution_count": 1,
   "metadata": {},
   "outputs": [
    {
     "name": "stdout",
     "output_type": "stream",
     "text": [
      "2025-04-12 18:35:14,903 - ChartMind - INFO - Found 0 unprocessed texts.\n",
      "2025-04-12 18:35:14,904 - ChartMind - INFO - Found no unprocessed texts.\n"
     ]
    },
    {
     "ename": "KeyError",
     "evalue": "'user_id'",
     "output_type": "error",
     "traceback": [
      "\u001b[0;31m---------------------------------------------------------------------------\u001b[0m",
      "\u001b[0;31mKeyError\u001b[0m                                  Traceback (most recent call last)",
      "Cell \u001b[0;32mIn[1], line 15\u001b[0m\n\u001b[1;32m     12\u001b[0m image_analysis_service \u001b[38;5;241m=\u001b[39m ImageAnalysisService()\n\u001b[1;32m     14\u001b[0m \u001b[38;5;28;01mawait\u001b[39;00m text_analysis_service\u001b[38;5;241m.\u001b[39mprocess_text()\n\u001b[0;32m---> 15\u001b[0m \u001b[38;5;28;01mawait\u001b[39;00m url_analysis_service\u001b[38;5;241m.\u001b[39mprocess_urls()\n\u001b[1;32m     16\u001b[0m \u001b[38;5;28;01mawait\u001b[39;00m file_analysis_service\u001b[38;5;241m.\u001b[39mprocess_files()\n\u001b[1;32m     17\u001b[0m \u001b[38;5;28;01mawait\u001b[39;00m image_analysis_service\u001b[38;5;241m.\u001b[39mprocess_images()\n",
      "File \u001b[0;32m~/Desktop/charmind-backend/app/service/url_services.py:42\u001b[0m, in \u001b[0;36mUrlAnalysisService.process_urls\u001b[0;34m(self)\u001b[0m\n\u001b[1;32m     39\u001b[0m     tasks\u001b[38;5;241m.\u001b[39mappend(task)\n\u001b[1;32m     41\u001b[0m \u001b[38;5;66;03m# 并发执行所有任务\u001b[39;00m\n\u001b[0;32m---> 42\u001b[0m \u001b[38;5;28;01mawait\u001b[39;00m asyncio\u001b[38;5;241m.\u001b[39mgather(\u001b[38;5;241m*\u001b[39mtasks)\n\u001b[1;32m     43\u001b[0m logger\u001b[38;5;241m.\u001b[39minfo(\u001b[38;5;124mf\u001b[39m\u001b[38;5;124m\"\u001b[39m\u001b[38;5;124m已完成处理 \u001b[39m\u001b[38;5;132;01m{\u001b[39;00m\u001b[38;5;28mlen\u001b[39m(tasks)\u001b[38;5;132;01m}\u001b[39;00m\u001b[38;5;124m 个URL\u001b[39m\u001b[38;5;124m\"\u001b[39m)\n",
      "File \u001b[0;32m~/Desktop/charmind-backend/app/service/url_services.py:47\u001b[0m, in \u001b[0;36mUrlAnalysisService._process_single_url\u001b[0;34m(self, url_doc)\u001b[0m\n\u001b[1;32m     45\u001b[0m \u001b[38;5;28;01masync\u001b[39;00m \u001b[38;5;28;01mdef\u001b[39;00m\u001b[38;5;250m \u001b[39m\u001b[38;5;21m_process_single_url\u001b[39m(\u001b[38;5;28mself\u001b[39m, url_doc):\n\u001b[1;32m     46\u001b[0m     url \u001b[38;5;241m=\u001b[39m url_doc[\u001b[38;5;124m\"\u001b[39m\u001b[38;5;124murl\u001b[39m\u001b[38;5;124m\"\u001b[39m]\n\u001b[0;32m---> 47\u001b[0m     user_id \u001b[38;5;241m=\u001b[39m \u001b[43murl_doc\u001b[49m\u001b[43m[\u001b[49m\u001b[38;5;124;43m\"\u001b[39;49m\u001b[38;5;124;43muser_id\u001b[39;49m\u001b[38;5;124;43m\"\u001b[39;49m\u001b[43m]\u001b[49m\n\u001b[1;32m     49\u001b[0m     \u001b[38;5;28;01mtry\u001b[39;00m:\n\u001b[1;32m     50\u001b[0m         url_preview \u001b[38;5;241m=\u001b[39m \u001b[38;5;28;01mawait\u001b[39;00m get_url_preview(url)\n",
      "\u001b[0;31mKeyError\u001b[0m: 'user_id'"
     ]
    }
   ],
   "source": [
    "from app.service.text_service import TextAnalysisService\n",
    "from app.service.image_service import ImageAnalysisService\n",
    "from app.service.file_service import FileAnalysisService\n",
    "from app.service.url_services import UrlAnalysisService\n",
    "from app.service.label_service import LabelApplicationService, LabelManagementService\n",
    "\n",
    "from bson import ObjectId\n",
    "\n",
    "text_analysis_service = TextAnalysisService()\n",
    "url_analysis_service = UrlAnalysisService()\n",
    "file_analysis_service = FileAnalysisService()\n",
    "image_analysis_service = ImageAnalysisService()\n",
    "\n",
    "await text_analysis_service.process_text()\n",
    "await url_analysis_service.process_urls()\n",
    "await file_analysis_service.process_files()\n",
    "await image_analysis_service.process_images()"
   ]
  },
  {
   "cell_type": "code",
   "execution_count": null,
   "metadata": {},
   "outputs": [],
   "source": []
  },
  {
   "cell_type": "code",
   "execution_count": 1,
   "metadata": {},
   "outputs": [],
   "source": [
    "from pymongo import MongoClient\n",
    "from app.infrastructure.external.cloudflare_ai_service import CloudflareAIService\n",
    "from app.infrastructure.daos.text_daos import TextDAO\n",
    "from app.infrastructure.daos.image_daos import ImageDAO"
   ]
  },
  {
   "cell_type": "code",
   "execution_count": 9,
   "metadata": {},
   "outputs": [],
   "source": [
    "llm_service = CloudflareAIService()\n",
    "\n",
    "dao = TextDAO()\n",
    "dao = ImageDAO()\n",
    "\n",
    "query_text = \"GPU\"\n",
    "\n",
    "result = await dao.full_text_search(query_text)\n",
    "\n",
    "# query_vector = await llm_service.get_embedding(query_text)\n",
    "# result = await dao.vector_search(query_vector)"
   ]
  },
  {
   "cell_type": "code",
   "execution_count": null,
   "metadata": {},
   "outputs": [],
   "source": [
    "result"
   ]
  },
  {
   "cell_type": "code",
   "execution_count": null,
   "metadata": {},
   "outputs": [],
   "source": []
  },
  {
   "cell_type": "code",
   "execution_count": null,
   "metadata": {},
   "outputs": [],
   "source": []
  },
  {
   "cell_type": "markdown",
   "metadata": {},
   "source": []
  }
 ],
 "metadata": {
  "kernelspec": {
   "display_name": "venv",
   "language": "python",
   "name": "python3"
  },
  "language_info": {
   "codemirror_mode": {
    "name": "ipython",
    "version": 3
   },
   "file_extension": ".py",
   "mimetype": "text/x-python",
   "name": "python",
   "nbconvert_exporter": "python",
   "pygments_lexer": "ipython3",
   "version": "3.9.6"
  }
 },
 "nbformat": 4,
 "nbformat_minor": 2
}
