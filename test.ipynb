{
 "cells": [
  {
   "cell_type": "markdown",
   "metadata": {},
   "source": []
  },
  {
   "cell_type": "code",
   "execution_count": 1,
   "metadata": {},
   "outputs": [],
   "source": [
    "from app.infrastructure.daos.image import ImageDAO\n",
    "from app.infrastructure.daos.label import ImageLabelDAO\n",
    "from app.infrastructure.daos.user import UserDAO\n",
    "\n",
    "image_dao = ImageDAO()\n",
    "label_dao = ImageLabelDAO()\n",
    "user_dao = UserDAO()"
   ]
  },
  {
   "cell_type": "code",
   "execution_count": 2,
   "metadata": {},
   "outputs": [
    {
     "data": {
      "text/plain": [
       "{'_id': '67e3c391ee7d33ce57110243',\n",
       " 'username': 'yahoo168',\n",
       " 'password': 'yahoo210',\n",
       " 'external_ids': {'line_id': 'Uf6048653a6cfc5e8d2a87f35b8cf12ad'}}"
      ]
     },
     "execution_count": 2,
     "metadata": {},
     "output_type": "execute_result"
    }
   ],
   "source": [
    "user_id = \"67e3c391ee7d33ce57110243\"\n",
    "image_id = ''\n",
    "\n",
    "#await label_dao.count_labels_by_user_id(user_id=user_id)\n",
    "user = await user_dao.find_user(user_id=user_id)\n",
    "user"
   ]
  }
 ],
 "metadata": {
  "kernelspec": {
   "display_name": "venv",
   "language": "python",
   "name": "python3"
  },
  "language_info": {
   "codemirror_mode": {
    "name": "ipython",
    "version": 3
   },
   "file_extension": ".py",
   "mimetype": "text/x-python",
   "name": "python",
   "nbconvert_exporter": "python",
   "pygments_lexer": "ipython3",
   "version": "3.9.6"
  }
 },
 "nbformat": 4,
 "nbformat_minor": 2
}
