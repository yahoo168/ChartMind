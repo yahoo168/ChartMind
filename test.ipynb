{
 "cells": [
  {
   "cell_type": "code",
   "execution_count": 1,
   "metadata": {},
   "outputs": [],
   "source": [
    "from app.service.user_service import UserAuthService\n",
    "from app.service.application_service import UserMaterialsUploadService, UserMaterialsRetrievalService\n",
    "from app.service.label_service import LabelManagementService\n",
    "\n",
    "user_id = \"67e3c391ee7d33ce57110243\"\n",
    "service = UserMaterialsRetrievalService()"
   ]
  },
  {
   "cell_type": "code",
   "execution_count": 4,
   "metadata": {},
   "outputs": [],
   "source": [
    "images = await service.get_user_images(user_id)"
   ]
  },
  {
   "cell_type": "code",
   "execution_count": 5,
   "metadata": {},
   "outputs": [
    {
     "data": {
      "text/plain": [
       "[{'name': '電子元件', 'id': '67f0ffa27be5114dfd072200'},\n",
       " {'name': '半導體', 'id': '67f0ffa47be5114dfd072202'},\n",
       " {'name': 'Tech Stock', 'id': '67f0e78fa6c2dd54dc2da8a9'},\n",
       " {'name': '電路板', 'id': '67f0ffa37be5114dfd072201'},\n",
       " {'name': 'Valuation', 'id': '67f0e76aa6c2dd54dc2da8a8'}]"
      ]
     },
     "execution_count": 5,
     "metadata": {},
     "output_type": "execute_result"
    }
   ],
   "source": [
    "image = images[0]\n",
    "image[\"description\"][\"labels\"]\n"
   ]
  },
  {
   "cell_type": "code",
   "execution_count": null,
   "metadata": {},
   "outputs": [],
   "source": []
  },
  {
   "cell_type": "code",
   "execution_count": 1,
   "metadata": {},
   "outputs": [],
   "source": [
    "from app.service.image_service import *\n",
    "\n",
    "image_url = \"https://r2-image-worker.a86305394.workers.dev/67e3c391ee7d33ce57110243/2025-04-06/555466580662682316.jpg\"\n",
    "user_id = \"67e3c391ee7d33ce57110243\"\n",
    "\n",
    "image = {\n",
    "    \"file_url\": image_url,\n",
    "    \"user_id\": user_id\n",
    "}"
   ]
  },
  {
   "cell_type": "code",
   "execution_count": null,
   "metadata": {},
   "outputs": [],
   "source": []
  },
  {
   "cell_type": "code",
   "execution_count": null,
   "metadata": {},
   "outputs": [],
   "source": [
    "class test:\n",
    "    a = 1\n",
    "    def output(self):\n",
    "        print(self.a)\n",
    "\n",
    "test().output()"
   ]
  },
  {
   "cell_type": "code",
   "execution_count": null,
   "metadata": {},
   "outputs": [],
   "source": []
  }
 ],
 "metadata": {
  "kernelspec": {
   "display_name": "venv",
   "language": "python",
   "name": "python3"
  },
  "language_info": {
   "codemirror_mode": {
    "name": "ipython",
    "version": 3
   },
   "file_extension": ".py",
   "mimetype": "text/x-python",
   "name": "python",
   "nbconvert_exporter": "python",
   "pygments_lexer": "ipython3",
   "version": "3.9.6"
  }
 },
 "nbformat": 4,
 "nbformat_minor": 2
}
