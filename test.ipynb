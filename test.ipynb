{
 "cells": [
  {
   "cell_type": "code",
   "execution_count": 1,
   "metadata": {},
   "outputs": [
    {
     "name": "stdout",
     "output_type": "stream",
     "text": [
      "開始查詢...\n",
      "查詢結果: {'_id': '67e3c7d9d68e717210487401', 'user_id': '67e3c391ee7d33ce57110243', 'file_name': '553899409038377267.jpg', 'file_url': 'https://r2-image-worker.a86305394.workers.dev/67e3c391ee7d33ce57110243/2025-03-26/553899409038377267.jpg', 'thumbnail_url': '', 'file_size': 163696, 'content_type': 'image/jpg', 'created_timestamp': datetime.datetime(2025, 3, 26, 9, 24, 41, 470000), 'status': 'active', 'source': 'line', 'description': {'tags': [], 'ocr_text': '', 'gpt_summary': '', 'comments': []}, 'metadata': {}}\n"
     ]
    },
    {
     "data": {
      "text/plain": [
       "{'_id': '67e3c7d9d68e717210487401',\n",
       " 'user_id': '67e3c391ee7d33ce57110243',\n",
       " 'file_name': '553899409038377267.jpg',\n",
       " 'file_url': 'https://r2-image-worker.a86305394.workers.dev/67e3c391ee7d33ce57110243/2025-03-26/553899409038377267.jpg',\n",
       " 'thumbnail_url': '',\n",
       " 'file_size': 163696,\n",
       " 'content_type': 'image/jpg',\n",
       " 'created_timestamp': datetime.datetime(2025, 3, 26, 9, 24, 41, 470000),\n",
       " 'status': 'active',\n",
       " 'source': 'line',\n",
       " 'description': {'tags': [],\n",
       "  'ocr_text': '',\n",
       "  'gpt_summary': '',\n",
       "  'comments': []},\n",
       " 'metadata': {}}"
      ]
     },
     "execution_count": 1,
     "metadata": {},
     "output_type": "execute_result"
    }
   ],
   "source": [
    "from app.daos.image_daos import ImageDAO\n",
    "import asyncio\n",
    "\n",
    "async def main():\n",
    "    try:\n",
    "        dao = ImageDAO()\n",
    "        _id = \"67e3c7d9d68e717210487401\"\n",
    "        print(\"開始查詢...\")\n",
    "        result = await asyncio.wait_for(dao.get_one_image(_id), timeout=10.0)\n",
    "        print(\"查詢結果:\", result)\n",
    "        return result\n",
    "    except Exception as e:\n",
    "        print(f\"發生錯誤: {e}\")\n",
    "        return None\n",
    "\n",
    "# 在Jupyter中運行異步函數\n",
    "await main()"
   ]
  },
  {
   "cell_type": "code",
   "execution_count": null,
   "metadata": {},
   "outputs": [],
   "source": []
  }
 ],
 "metadata": {
  "kernelspec": {
   "display_name": "venv",
   "language": "python",
   "name": "python3"
  },
  "language_info": {
   "codemirror_mode": {
    "name": "ipython",
    "version": 3
   },
   "file_extension": ".py",
   "mimetype": "text/x-python",
   "name": "python",
   "nbconvert_exporter": "python",
   "pygments_lexer": "ipython3",
   "version": "3.9.6"
  }
 },
 "nbformat": 4,
 "nbformat_minor": 2
}
